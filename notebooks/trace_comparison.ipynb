{
 "cells": [
  {
   "cell_type": "markdown",
   "metadata": {},
   "source": [
    "## NAV Trace Comparison\n",
    "The Trace Comparison tool can be used for finding traces in the dataset that are similar to an input trace.\n"
   ]
  },
  {
   "cell_type": "code",
   "execution_count": 1,
   "metadata": {
    "scrolled": false
   },
   "outputs": [
    {
     "data": {
      "application/vnd.jupyter.widget-view+json": {
       "model_id": "caef31f4d4504726bdec4f3585e83762",
       "version_major": 2,
       "version_minor": 0
      },
      "text/plain": [
       "TraceComparison(activities=['ER Registration', 'Leucocytes', 'CRP', 'LacticAcid', 'ER Triage', 'ER Sepsis Tria…"
      ]
     },
     "metadata": {},
     "output_type": "display_data"
    }
   ],
   "source": [
    "import os\n",
    "from ntnu_process_mining import TraceComparison\n",
    "from pandas import read_csv\n",
    "\n",
    "df = read_csv(os.path.join(\"files\", \"sepsis.csv\"))\n",
    "\n",
    "TraceComparison(df)"
   ]
  }
 ],
 "metadata": {
  "kernelspec": {
   "display_name": "Python 3",
   "language": "python",
   "name": "python3"
  },
  "language_info": {
   "codemirror_mode": {
    "name": "ipython",
    "version": 3
   },
   "file_extension": ".py",
   "mimetype": "text/x-python",
   "name": "python",
   "nbconvert_exporter": "python",
   "pygments_lexer": "ipython3",
   "version": "3.6.5"
  },
  "widgets": {
   "application/vnd.jupyter.widget-state+json": {
    "state": {
     "0ea419d1562a4789a683de6c24c901e6": {
      "model_module": "ntnu-process-mining",
      "model_module_version": "^0.1.0",
      "model_name": "TraceComparisonModel",
      "state": {
       "_model_module_version": "^0.1.0",
       "_view_module_version": "^0.1.0",
       "activities": [
        "ER Registration",
        "Leucocytes",
        "CRP",
        "LacticAcid",
        "ER Triage",
        "ER Sepsis Triage",
        "IV Liquid",
        "IV Antibiotics",
        "Admission NC",
        "Release A",
        "Return ER",
        "Admission IC",
        "Release B",
        "Release C",
        "Release D",
        "Release E"
       ],
       "layout": "IPY_MODEL_9339a89b0b7a4543ad966033d1a00d1f",
       "result": {
        "('ER Registration', 'ER Triage', 'ER Sepsis Triage')": 35,
        "('ER Registration', 'ER Triage', 'ER Sepsis Triage', 'Admission NC', 'Release A')": 2,
        "('ER Registration', 'ER Triage', 'ER Sepsis Triage', 'Leucocytes')": 1,
        "('ER Sepsis Triage', 'ER Registration', 'ER Triage', 'Leucocytes', 'CRP')": 1,
        "('Leucocytes', 'CRP', 'ER Registration', 'ER Triage', 'ER Sepsis Triage')": 1
       },
       "trace": [
        "IV Liquid",
        "ER Registration",
        "Admission NC"
       ]
      }
     },
     "60110285403f4fd39bafd77243ff6ca3": {
      "model_module": "@jupyter-widgets/base",
      "model_module_version": "1.2.0",
      "model_name": "LayoutModel",
      "state": {}
     },
     "72a1ed90411e46a684d88ad6f30b431d": {
      "model_module": "@jupyter-widgets/base",
      "model_module_version": "1.2.0",
      "model_name": "LayoutModel",
      "state": {}
     },
     "742fde703285441ea9fac82f9d5dcea1": {
      "model_module": "ntnu-process-mining",
      "model_module_version": "^0.1.0",
      "model_name": "TraceComparisonModel",
      "state": {
       "_model_module_version": "^0.1.0",
       "_view_module_version": "^0.1.0",
       "activities": [
        "ER Registration",
        "Leucocytes",
        "CRP",
        "LacticAcid",
        "ER Triage",
        "ER Sepsis Triage",
        "IV Liquid",
        "IV Antibiotics",
        "Admission NC",
        "Release A",
        "Return ER",
        "Admission IC",
        "Release B",
        "Release C",
        "Release D",
        "Release E"
       ],
       "layout": "IPY_MODEL_72a1ed90411e46a684d88ad6f30b431d",
       "result": {
        "('ER Registration', 'CRP', 'Leucocytes', 'ER Triage', 'ER Sepsis Triage')": 1,
        "('ER Registration', 'ER Triage', 'ER Sepsis Triage')": 35,
        "('ER Registration', 'ER Triage', 'ER Sepsis Triage', 'Leucocytes')": 1,
        "('ER Registration', 'ER Triage', 'ER Sepsis Triage', 'Leucocytes', 'CRP')": 24,
        "('ER Sepsis Triage', 'ER Registration', 'ER Triage', 'Leucocytes', 'CRP')": 1
       },
       "trace": [
        "LacticAcid"
       ]
      }
     },
     "7805c1b4ffe5493dac0a6c9b5abf295f": {
      "model_module": "@jupyter-widgets/base",
      "model_module_version": "1.2.0",
      "model_name": "LayoutModel",
      "state": {}
     },
     "8921a001d2024d3dbe2bf351d04ecd60": {
      "model_module": "@jupyter-widgets/base",
      "model_module_version": "1.2.0",
      "model_name": "LayoutModel",
      "state": {}
     },
     "9339a89b0b7a4543ad966033d1a00d1f": {
      "model_module": "@jupyter-widgets/base",
      "model_module_version": "1.2.0",
      "model_name": "LayoutModel",
      "state": {}
     },
     "989c94bae56f4fbf97868e5721e96886": {
      "model_module": "ntnu-process-mining",
      "model_module_version": "^0.1.0",
      "model_name": "TraceComparisonModel",
      "state": {
       "_model_module_version": "^0.1.0",
       "_view_module_version": "^0.1.0",
       "activities": [
        "ER Registration",
        "Leucocytes",
        "CRP",
        "LacticAcid",
        "ER Triage",
        "ER Sepsis Triage",
        "IV Liquid",
        "IV Antibiotics",
        "Admission NC",
        "Release A",
        "Return ER",
        "Admission IC",
        "Release B",
        "Release C",
        "Release D",
        "Release E"
       ],
       "layout": "IPY_MODEL_60110285403f4fd39bafd77243ff6ca3",
       "result": {
        "('ER Registration', 'CRP', 'Leucocytes', 'ER Triage', 'ER Sepsis Triage')": 1,
        "('ER Registration', 'ER Triage', 'ER Sepsis Triage')": 35,
        "('ER Registration', 'ER Triage', 'ER Sepsis Triage', 'Leucocytes')": 1,
        "('ER Registration', 'ER Triage', 'ER Sepsis Triage', 'Leucocytes', 'CRP')": 24,
        "('ER Sepsis Triage', 'ER Registration', 'ER Triage', 'Leucocytes', 'CRP')": 1
       },
       "trace": []
      }
     },
     "afcac78c831747f1a69c900c3f3a937b": {
      "model_module": "ntnu-process-mining",
      "model_module_version": "^0.1.0",
      "model_name": "TraceComparisonModel",
      "state": {
       "_model_module_version": "^0.1.0",
       "_view_module_version": "^0.1.0",
       "activities": [
        "ER Registration",
        "Leucocytes",
        "CRP",
        "LacticAcid",
        "ER Triage",
        "ER Sepsis Triage",
        "IV Liquid",
        "IV Antibiotics",
        "Admission NC",
        "Release A",
        "Return ER",
        "Admission IC",
        "Release B",
        "Release C",
        "Release D",
        "Release E"
       ],
       "layout": "IPY_MODEL_ed08d441ac4140fd8d8abb3ef4da15b0",
       "result": {
        "('ER Registration', 'CRP', 'Leucocytes', 'ER Triage', 'ER Sepsis Triage')": 1,
        "('ER Registration', 'ER Triage', 'CRP', 'Leucocytes', 'ER Sepsis Triage')": 5,
        "('ER Registration', 'ER Triage', 'ER Sepsis Triage')": 35,
        "('ER Registration', 'ER Triage', 'ER Sepsis Triage', 'CRP', 'Leucocytes')": 22,
        "('ER Registration', 'ER Triage', 'ER Sepsis Triage', 'Leucocytes')": 1
       },
       "trace": [
        "ER Registration",
        "CRP",
        "Leucocytes"
       ]
      }
     },
     "b0219a0ab359433d8f5b11408d670d9c": {
      "model_module": "ntnu-process-mining",
      "model_module_version": "^0.1.0",
      "model_name": "TraceComparisonModel",
      "state": {
       "_model_module_version": "^0.1.0",
       "_view_module_version": "^0.1.0",
       "activities": [
        "ER Registration",
        "Leucocytes",
        "CRP",
        "LacticAcid",
        "ER Triage",
        "ER Sepsis Triage",
        "IV Liquid",
        "IV Antibiotics",
        "Admission NC",
        "Release A",
        "Return ER",
        "Admission IC",
        "Release B",
        "Release C",
        "Release D",
        "Release E"
       ],
       "layout": "IPY_MODEL_7805c1b4ffe5493dac0a6c9b5abf295f",
       "result": {
        "('ER Registration', 'CRP', 'Leucocytes', 'ER Triage', 'ER Sepsis Triage')": 1,
        "('ER Registration', 'ER Triage', 'ER Sepsis Triage')": 35,
        "('ER Registration', 'ER Triage', 'ER Sepsis Triage', 'Leucocytes')": 1,
        "('ER Registration', 'ER Triage', 'ER Sepsis Triage', 'Leucocytes', 'CRP')": 24,
        "('ER Sepsis Triage', 'ER Registration', 'ER Triage', 'Leucocytes', 'CRP')": 1
       },
       "trace": [
        "IV Liquid",
        "IV Antibiotics"
       ]
      }
     },
     "da9922d0d30244d8909555005bf3e2de": {
      "model_module": "ntnu-process-mining",
      "model_module_version": "^0.1.0",
      "model_name": "TraceComparisonModel",
      "state": {
       "_model_module_version": "^0.1.0",
       "_view_module_version": "^0.1.0",
       "activities": [
        "ER Registration",
        "Leucocytes",
        "CRP",
        "LacticAcid",
        "ER Triage",
        "ER Sepsis Triage",
        "IV Liquid",
        "IV Antibiotics",
        "Admission NC",
        "Release A",
        "Return ER",
        "Admission IC",
        "Release B",
        "Release C",
        "Release D",
        "Release E"
       ],
       "layout": "IPY_MODEL_8921a001d2024d3dbe2bf351d04ecd60",
       "result": {
        "('ER Registration', 'ER Triage', 'ER Sepsis Triage')": 35,
        "('ER Registration', 'ER Triage', 'ER Sepsis Triage', 'Leucocytes', 'CRP')": 24,
        "('ER Registration', 'ER Triage', 'Leucocytes', 'CRP', 'ER Sepsis Triage')": 4,
        "('ER Sepsis Triage', 'ER Registration', 'ER Triage', 'Leucocytes', 'CRP')": 1,
        "('Leucocytes', 'CRP', 'ER Registration', 'ER Triage', 'ER Sepsis Triage')": 1
       },
       "trace": [
        "Leucocytes",
        "CRP"
       ]
      }
     },
     "ed08d441ac4140fd8d8abb3ef4da15b0": {
      "model_module": "@jupyter-widgets/base",
      "model_module_version": "1.2.0",
      "model_name": "LayoutModel",
      "state": {}
     }
    },
    "version_major": 2,
    "version_minor": 0
   }
  }
 },
 "nbformat": 4,
 "nbformat_minor": 2
}
