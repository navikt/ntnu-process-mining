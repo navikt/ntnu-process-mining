{
 "cells": [
  {
   "cell_type": "markdown",
   "metadata": {},
   "source": [
    "## NAV Trace Comparison\n",
    "The Trace Comparison tool can be used for finding traces in the dataset that are similar to an input trace.\n"
   ]
  },
  {
   "cell_type": "code",
   "execution_count": 1,
   "metadata": {
    "scrolled": true
   },
   "outputs": [
    {
     "data": {
      "application/vnd.jupyter.widget-view+json": {
       "model_id": "da9922d0d30244d8909555005bf3e2de",
       "version_major": 2,
       "version_minor": 0
      },
      "text/plain": [
       "TraceComparison(activities=['ER Registration', 'Leucocytes', 'CRP', 'LacticAcid', 'ER Triage', 'ER Sepsis Tria…"
      ]
     },
     "metadata": {},
     "output_type": "display_data"
    }
   ],
   "source": [
    "import os\n",
    "from ntnu_process_mining import TraceComparison\n",
    "\n",
    "from pandas import read_csv\n",
    "\n",
    "df = read_csv(os.path.join(\"files\", \"sepsis.csv\"))\n",
    "\n",
    "\n",
    "TraceComparison(df)"
   ]
  }
 ],
 "metadata": {
  "kernelspec": {
   "display_name": "Python 3",
   "language": "python",
   "name": "python3"
  },
  "language_info": {
   "codemirror_mode": {
    "name": "ipython",
    "version": 3
   },
   "file_extension": ".py",
   "mimetype": "text/x-python",
   "name": "python",
   "nbconvert_exporter": "python",
   "pygments_lexer": "ipython3",
   "version": "3.6.5"
  },
  "widgets": {
   "application/vnd.jupyter.widget-state+json": {
    "state": {
     "8921a001d2024d3dbe2bf351d04ecd60": {
      "model_module": "@jupyter-widgets/base",
      "model_module_version": "1.2.0",
      "model_name": "LayoutModel",
      "state": {}
     },
     "afcac78c831747f1a69c900c3f3a937b": {
      "model_module": "ntnu-process-mining",
      "model_module_version": "^0.1.0",
      "model_name": "TraceComparisonModel",
      "state": {
       "_model_module_version": "^0.1.0",
       "_view_module_version": "^0.1.0",
       "activities": [
        "ER Registration",
        "Leucocytes",
        "CRP",
        "LacticAcid",
        "ER Triage",
        "ER Sepsis Triage",
        "IV Liquid",
        "IV Antibiotics",
        "Admission NC",
        "Release A",
        "Return ER",
        "Admission IC",
        "Release B",
        "Release C",
        "Release D",
        "Release E"
       ],
       "layout": "IPY_MODEL_ed08d441ac4140fd8d8abb3ef4da15b0",
       "result": {
        "('ER Registration', 'CRP', 'Leucocytes', 'ER Triage', 'ER Sepsis Triage')": 1,
        "('ER Registration', 'ER Triage', 'CRP', 'Leucocytes', 'ER Sepsis Triage')": 5,
        "('ER Registration', 'ER Triage', 'ER Sepsis Triage')": 35,
        "('ER Registration', 'ER Triage', 'ER Sepsis Triage', 'CRP', 'Leucocytes')": 22,
        "('ER Registration', 'ER Triage', 'ER Sepsis Triage', 'Leucocytes')": 1
       },
       "trace": [
        "ER Registration",
        "CRP",
        "Leucocytes"
       ]
      }
     },
     "da9922d0d30244d8909555005bf3e2de": {
      "model_module": "ntnu-process-mining",
      "model_module_version": "^0.1.0",
      "model_name": "TraceComparisonModel",
      "state": {
       "_model_module_version": "^0.1.0",
       "_view_module_version": "^0.1.0",
       "activities": [
        "ER Registration",
        "Leucocytes",
        "CRP",
        "LacticAcid",
        "ER Triage",
        "ER Sepsis Triage",
        "IV Liquid",
        "IV Antibiotics",
        "Admission NC",
        "Release A",
        "Return ER",
        "Admission IC",
        "Release B",
        "Release C",
        "Release D",
        "Release E"
       ],
       "layout": "IPY_MODEL_8921a001d2024d3dbe2bf351d04ecd60",
       "result": {
        "('ER Registration', 'ER Triage', 'ER Sepsis Triage')": 35,
        "('ER Registration', 'ER Triage', 'ER Sepsis Triage', 'Leucocytes', 'CRP')": 24,
        "('ER Registration', 'ER Triage', 'Leucocytes', 'CRP', 'ER Sepsis Triage')": 4,
        "('ER Sepsis Triage', 'ER Registration', 'ER Triage', 'Leucocytes', 'CRP')": 1,
        "('Leucocytes', 'CRP', 'ER Registration', 'ER Triage', 'ER Sepsis Triage')": 1
       },
       "trace": [
        "Leucocytes",
        "CRP"
       ]
      }
     },
     "ed08d441ac4140fd8d8abb3ef4da15b0": {
      "model_module": "@jupyter-widgets/base",
      "model_module_version": "1.2.0",
      "model_name": "LayoutModel",
      "state": {}
     }
    },
    "version_major": 2,
    "version_minor": 0
   }
  }
 },
 "nbformat": 4,
 "nbformat_minor": 2
}
