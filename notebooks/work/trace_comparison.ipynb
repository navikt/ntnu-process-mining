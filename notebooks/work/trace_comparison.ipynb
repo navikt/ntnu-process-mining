{
 "cells": [
  {
   "cell_type": "code",
   "execution_count": 3,
   "metadata": {},
   "outputs": [
    {
     "name": "stdout",
     "output_type": "stream",
     "text": [
      "{('ER Registration', 'ER Triage', 'ER Sepsis Triage', 'LacticAcid', 'Leucocytes', 'CRP'): 2, ('ER Registration', 'ER Triage', 'ER Sepsis Triage', 'Leucocytes', 'CRP'): 27, ('ER Registration', 'ER Triage', 'ER Sepsis Triage', 'LacticAcid', 'Leucocytes', 'CRP', 'Admission NC'): 1, ('ER Registration', 'ER Triage', 'ER Sepsis Triage', 'Leucocytes', 'CRP', 'LacticAcid'): 11, ('ER Registration', 'ER Triage', 'ER Sepsis Triage', 'CRP', 'LacticAcid', 'Leucocytes'): 4}\n"
     ]
    }
   ],
   "source": [
    "from ntnu_process_mining.utils.events_to_traces import read_event_log\n",
    "from ntnu_process_mining.trace_comparison.compare import find_similar_traces\n",
    "import os\n",
    "\n",
    "path = os.path.join(\"files\", \"input_data\", \"sepsis.csv\")\n",
    "log = read_event_log(path)\n",
    "\n",
    "result = find_similar_traces(\n",
    "    log,\n",
    "    (\n",
    "        \"ER Registration\",\n",
    "        \"ER Triage\",\n",
    "        \"ER Sepsis Triage\",\n",
    "        \"LacticAcid\",\n",
    "        \"Leucocytes\",\n",
    "        \"CRP\",\n",
    "    ),\n",
    "    top_n=5,\n",
    ")\n",
    "print(result)"
   ]
  }
 ],
 "metadata": {
  "kernelspec": {
   "display_name": "Python 3",
   "language": "python",
   "name": "python3"
  },
  "language_info": {
   "codemirror_mode": {
    "name": "ipython",
    "version": 3
   },
   "file_extension": ".py",
   "mimetype": "text/x-python",
   "name": "python",
   "nbconvert_exporter": "python",
   "pygments_lexer": "ipython3",
   "version": "3.7.4"
  }
 },
 "nbformat": 4,
 "nbformat_minor": 2
}
