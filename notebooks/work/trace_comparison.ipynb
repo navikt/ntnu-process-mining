{
 "cells": [
  {
   "cell_type": "code",
   "execution_count": 3,
   "metadata": {
    "scrolled": true
   },
   "outputs": [
    {
     "data": {
      "application/vnd.jupyter.widget-view+json": {
       "model_id": "4304c47de53b4bb2972b051416617026",
       "version_major": 2,
       "version_minor": 0
      },
      "text/plain": [
       "TraceComparison(activities=['ER Registration', 'Leucocytes', 'CRP', 'LacticAcid', 'ER Triage', 'ER Sepsis Tria…"
      ]
     },
     "metadata": {},
     "output_type": "display_data"
    }
   ],
   "source": [
    "from ntnu_process_mining import TraceComparison\n",
    "from ntnu_process_mining.utils.events_to_traces import read_event_log\n",
    "import os\n",
    "\n",
    "path = os.path.join(\"files\", \"input_data\", \"sepsis.csv\")\n",
    "log = read_event_log(path)\n",
    "\n",
    "comperator = TraceComparison()\n",
    "comperator.set_log(log)\n",
    "comperator"
   ]
  },
  {
   "cell_type": "code",
   "execution_count": null,
   "metadata": {},
   "outputs": [],
   "source": []
  }
 ],
 "metadata": {
  "kernelspec": {
   "display_name": "Python 3",
   "language": "python",
   "name": "python3"
  },
  "language_info": {
   "codemirror_mode": {
    "name": "ipython",
    "version": 3
   },
   "file_extension": ".py",
   "mimetype": "text/x-python",
   "name": "python",
   "nbconvert_exporter": "python",
   "pygments_lexer": "ipython3",
   "version": "3.7.4"
  }
 },
 "nbformat": 4,
 "nbformat_minor": 2
}
