{
 "cells": [
  {
   "cell_type": "code",
   "execution_count": 11,
   "metadata": {
    "scrolled": true
   },
   "outputs": [
    {
     "data": {
      "application/vnd.jupyter.widget-view+json": {
       "model_id": "ff06c4dd54bf4af88500caa19f98e4d9",
       "version_major": 2,
       "version_minor": 0
      },
      "text/plain": [
       "TraceComparison(result={('ER Registration', 'ER Triage', 'ER Sepsis Triage', 'LacticAcid', 'Leucocytes', 'CRP'…"
      ]
     },
     "metadata": {},
     "output_type": "display_data"
    }
   ],
   "source": [
    "from ntnu_process_mining import TraceComparison\n",
    "from ntnu_process_mining.utils.events_to_traces import read_event_log\n",
    "import os\n",
    "\n",
    "path = os.path.join(\"files\", \"input_data\", \"sepsis.csv\")\n",
    "log = read_event_log(path)\n",
    "\n",
    "comperator = TraceComparison()\n",
    "trace = (\n",
    "    \"ER Registration\",\n",
    "    \"ER Triage\",\n",
    "    \"ER Sepsis Triage\",\n",
    "    \"LacticAcid\",\n",
    "    \"Leucocytes\",\n",
    "    \"CRP\",\n",
    ")\n",
    "\n",
    "comperator.update(log, trace, top_n=5)\n",
    "comperator"
   ]
  },
  {
   "cell_type": "code",
   "execution_count": null,
   "metadata": {},
   "outputs": [],
   "source": []
  }
 ],
 "metadata": {
  "kernelspec": {
   "display_name": "Python 3",
   "language": "python",
   "name": "python3"
  },
  "language_info": {
   "codemirror_mode": {
    "name": "ipython",
    "version": 3
   },
   "file_extension": ".py",
   "mimetype": "text/x-python",
   "name": "python",
   "nbconvert_exporter": "python",
   "pygments_lexer": "ipython3",
   "version": "3.7.4"
  }
 },
 "nbformat": 4,
 "nbformat_minor": 2
}
