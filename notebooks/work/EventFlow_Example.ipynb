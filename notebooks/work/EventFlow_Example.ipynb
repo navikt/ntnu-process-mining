{
 "cells": [
  {
   "cell_type": "code",
   "execution_count": 4,
   "metadata": {},
   "outputs": [
    {
     "data": {
      "text/markdown": [
       "<h2>Example notebook - Event Flow</h2>\n",
       "<p>This notebook show you an easy example of how you can use the event flow application.<p>\n",
       "<p>The entire application consists of two easy steps:</p>\n",
       "    <ul><li>Importing the method from ntnu_process_mining.Imports</li>\n",
       "    <li>Calling the method with the csv file as the argument</li></ul>\n"
      ],
      "text/plain": [
       "<IPython.core.display.Markdown object>"
      ]
     },
     "metadata": {},
     "output_type": "display_data"
    }
   ],
   "source": [
    "%%markdown\n",
    "<h2>Example notebook - Event Flow</h2>\n",
    "<p>This notebook show you an easy example of how you can use the event flow application.<p>\n",
    "<p>The entire application consists of two easy steps:</p>\n",
    "    <ul><li>Importing the method from ntnu_process_mining.Imports</li>\n",
    "    <li>Calling the method with the csv file as the argument</li></ul>"
   ]
  },
  {
   "cell_type": "code",
   "execution_count": 5,
   "metadata": {},
   "outputs": [
    {
     "data": {
      "text/html": [
       "<style>.Select-control{.user-select: text;font-family: BlinkMacSystemFont,Roboto,Helvetica Neue,sans-serif !important;font-size: 12px !important;-webkit-box-direction: normal !important;font-weight: 700 !important;background-color: #fff;border-color: #d9d9d9 #ccc #b3b3b3;border-radius: 4px;border: 1px solid #ccc;color: #333;cursor: default;display: table;border-spacing: 0;border-collapse: separate;height: 36px;outline: 0;overflow: hidden;position: relative;width: 100%;box-sizing: border-box;} .Select-multi-value-wrapper{user-select: text;font-family: BlinkMacSystemFont,Roboto,Helvetica Neue,sans-serif !important;font-size: 12px !important;-webkit-box-direction: normal !important;font-weight: 700 !important;color: #333;cursor: default;border-spacing: 0;border-collapse: separate;box-sizing: border-box;} .Select-value{user-select: text;font-family: BlinkMacSystemFont,Roboto,Helvetica Neue,sans-serif !important;font-size: 12px !important;-webkit-box-direction: normal !important;font-weight: 700 !important;cursor: default;border-spacing: 0;border-collapse: separate;box-sizing: border-box;bottom: 0;color: #aaa;left: 0;line-height: 34px;padding-left: 10px;padding-right: 10px;position: absolute;right: 0;top: 0;overflow: hidden;text-overflow: ellipsis;white-space: nowrap;}  .Select-input{user-select: text;font-family: BlinkMacSystemFont,Roboto,Helvetica Neue,sans-serif !important;font-size: 12px !important;-webkit-box-direction: normal !important;font-weight: 700 !important;color: #333;cursor: default;border-spacing: 0;border-collapse: separate;height: 34px;padding-left: 10px;padding-right: 10px;vertical-align: middle;box-sizing: border-box;display: inline-block;} .Select-arrow-zone{user-select: text;font-family: BlinkMacSystemFont,Roboto,Helvetica Neue,sans-serif !important;font-size: 12px !important;-webkit-box-direction: normal !important;font-weight: 700 !important;color: #333;border-spacing: 0;border-collapse: separate;cursor: pointer;display: table-cell;position: relative;text-align: right;vertical-align: middle;width: 10vw;box-sizing: border-box;padding-right: 5px;} .Select-menu-outer{user-select: text;font-family: BlinkMacSystemFont,Roboto,Helvetica Neue,sans-serif !important;font-size: 12px !important;-webkit-box-direction: normal !important;font-weight: 700 !important;border-bottom-right-radius: 4px;border-bottom-left-radius: 4px;background-color: #fff;border: 1px solid #ccc;border-top-color: #e6e6e6;box-shadow: 0 1px 0 rgba(0,0,0,.06);margin-top: -1px;max-height: 200px;left: 0;top: 100%;width: 10vw;z-index: 1;box-sizing: border-box;} .Select-menu{user-select: text;font-family: BlinkMacSystemFont,Roboto,Helvetica Neue,sans-serif !important;font-size: 12px !important;-webkit-box-direction: normal !important;font-weight: 700 !important;max-height: 198px;overflow-y: auto;box-sizing: border-box;} .Select-option-is-selected.is-focused{user-select: text;font-family: BlinkMacSystemFont,Roboto,Helvetica Neue,sans-serif !important;font-size: 12px !important;-webkit-box-direction: normal !important;font-weight: 700 !important;cursor: pointer;display: block;padding: 8px 10px;box-sizing: border-box;background-color: rgba(0,126,255,.08);color: #333;} .SplitPane{flex-direction: column !important; overflow: auto !important;} .Resizer.vertical{display:none;} ._lqge4f{display: flex; flex-direction: row; flex-wrap: wrap; justify-content:space-between; width: 50vw;} ._lqge4f div{margin:1%;} ._wgmchy{flex-direction:row !important;} .vx-legend{height: 25vh; overflow-y:auto;}</style>"
      ],
      "text/plain": [
       "<IPython.core.display.HTML object>"
      ]
     },
     "execution_count": 5,
     "metadata": {},
     "output_type": "execute_result"
    }
   ],
   "source": [
    "from IPython.display import HTML\n",
    "HTML('<style>.Select-control{.user-select: text;font-family: BlinkMacSystemFont,Roboto,Helvetica Neue,sans-serif !important;font-size: 12px !important;-webkit-box-direction: normal !important;font-weight: 700 !important;background-color: #fff;border-color: #d9d9d9 #ccc #b3b3b3;border-radius: 4px;border: 1px solid #ccc;color: #333;cursor: default;display: table;border-spacing: 0;border-collapse: separate;height: 36px;outline: 0;overflow: hidden;position: relative;width: 100%;box-sizing: border-box;} .Select-multi-value-wrapper{user-select: text;font-family: BlinkMacSystemFont,Roboto,Helvetica Neue,sans-serif !important;font-size: 12px !important;-webkit-box-direction: normal !important;font-weight: 700 !important;color: #333;cursor: default;border-spacing: 0;border-collapse: separate;box-sizing: border-box;} .Select-value{user-select: text;font-family: BlinkMacSystemFont,Roboto,Helvetica Neue,sans-serif !important;font-size: 12px !important;-webkit-box-direction: normal !important;font-weight: 700 !important;cursor: default;border-spacing: 0;border-collapse: separate;box-sizing: border-box;bottom: 0;color: #aaa;left: 0;line-height: 34px;padding-left: 10px;padding-right: 10px;position: absolute;right: 0;top: 0;overflow: hidden;text-overflow: ellipsis;white-space: nowrap;}  .Select-input{user-select: text;font-family: BlinkMacSystemFont,Roboto,Helvetica Neue,sans-serif !important;font-size: 12px !important;-webkit-box-direction: normal !important;font-weight: 700 !important;color: #333;cursor: default;border-spacing: 0;border-collapse: separate;height: 34px;padding-left: 10px;padding-right: 10px;vertical-align: middle;box-sizing: border-box;display: inline-block;} .Select-arrow-zone{user-select: text;font-family: BlinkMacSystemFont,Roboto,Helvetica Neue,sans-serif !important;font-size: 12px !important;-webkit-box-direction: normal !important;font-weight: 700 !important;color: #333;border-spacing: 0;border-collapse: separate;cursor: pointer;display: table-cell;position: relative;text-align: right;vertical-align: middle;width: 10vw;box-sizing: border-box;padding-right: 5px;} .Select-menu-outer{user-select: text;font-family: BlinkMacSystemFont,Roboto,Helvetica Neue,sans-serif !important;font-size: 12px !important;-webkit-box-direction: normal !important;font-weight: 700 !important;border-bottom-right-radius: 4px;border-bottom-left-radius: 4px;background-color: #fff;border: 1px solid #ccc;border-top-color: #e6e6e6;box-shadow: 0 1px 0 rgba(0,0,0,.06);margin-top: -1px;max-height: 200px;left: 0;top: 100%;width: 10vw;z-index: 1;box-sizing: border-box;} .Select-menu{user-select: text;font-family: BlinkMacSystemFont,Roboto,Helvetica Neue,sans-serif !important;font-size: 12px !important;-webkit-box-direction: normal !important;font-weight: 700 !important;max-height: 198px;overflow-y: auto;box-sizing: border-box;} .Select-option-is-selected.is-focused{user-select: text;font-family: BlinkMacSystemFont,Roboto,Helvetica Neue,sans-serif !important;font-size: 12px !important;-webkit-box-direction: normal !important;font-weight: 700 !important;cursor: pointer;display: block;padding: 8px 10px;box-sizing: border-box;background-color: rgba(0,126,255,.08);color: #333;} .SplitPane{flex-direction: column !important; overflow: auto !important;} .Resizer.vertical{display:none;} ._lqge4f{display: flex; flex-direction: row; flex-wrap: wrap; justify-content:space-between; width: 50vw;} ._lqge4f div{margin:1%;} ._wgmchy{flex-direction:row !important;} .vx-legend{height: 25vh; overflow-y:auto;}</style>')\n"
   ]
  },
  {
   "cell_type": "code",
   "execution_count": 3,
   "metadata": {},
   "outputs": [
    {
     "data": {
      "application/vnd.jupyter.widget-view+json": {
       "model_id": "3c691f91572a4c188c4671cfd4050842",
       "version_major": 2,
       "version_minor": 0
      },
      "text/plain": [
       "EventFlow(value=[{'ENTITY_ID': 'A', 'TS': Timestamp('2014-10-22 11:15:41+0000', tz='UTC'), 'EVENT_NAME': 'ER R…"
      ]
     },
     "metadata": {},
     "output_type": "display_data"
    }
   ],
   "source": [
    "from ntnu_process_mining.Imports import Event\n",
    "\n",
    "Event('sepsis.csv') #Change the filename if you want to try a different file"
   ]
  },
  {
   "cell_type": "code",
   "execution_count": null,
   "metadata": {},
   "outputs": [],
   "source": [
    "%%markdown\n",
    "<p>The example above uses the sample csv-file that is located inside the same folder as this file.</p>\n",
    "<p>You can change from sepsis.csv to any other csv-file you should want to run an event-flow analysis on.</p>"
   ]
  },
  {
   "cell_type": "code",
   "execution_count": null,
   "metadata": {},
   "outputs": [],
   "source": []
  },
  {
   "cell_type": "code",
   "execution_count": null,
   "metadata": {},
   "outputs": [],
   "source": []
  }
 ],
 "metadata": {
  "kernelspec": {
   "display_name": "Python 3",
   "language": "python",
   "name": "python3"
  },
  "language_info": {
   "codemirror_mode": {
    "name": "ipython",
    "version": 3
   },
   "file_extension": ".py",
   "mimetype": "text/x-python",
   "name": "python",
   "nbconvert_exporter": "python",
   "pygments_lexer": "ipython3",
   "version": "3.7.4"
  }
 },
 "nbformat": 4,
 "nbformat_minor": 2
}
