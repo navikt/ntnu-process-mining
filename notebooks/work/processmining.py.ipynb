{
 "cells": [
  {
   "cell_type": "code",
   "execution_count": 21,
   "metadata": {},
   "outputs": [],
   "source": [
    "import os"
   ]
  },
  {
   "cell_type": "code",
   "execution_count": 2,
   "metadata": {},
   "outputs": [],
   "source": [
    "from pm4py.algo.discovery.dfg import factory as dfg_factory\n",
    "from pm4py.objects.log.adapters.pandas import csv_import_adapter\n",
    "from pm4py.algo.discovery.dfg.adapters.pandas import df_statistics\n",
    "from pm4py import util as pmutil\n",
    "\n",
    "from pandas import read_csv\n",
    "file = read_csv(os.path.join(\"files\",\"input_data\",\"sepsis.csv\"))\n",
    "\n",
    "log = csv_import_adapter.convert_timestamp_columns_in_df(file, timest_columns=[\n",
    "    'timestamp'\n",
    "])\n",
    "#dfg_frequency, dfg_performance = df_statistics.get_dfg_graph(log, measure=\"both\",\n",
    "#                                                            activity_key='activity',\n",
    "#                                                            timestamp_key='timestamp',\n",
    "#                                                            case_id_glue='case_id')"
   ]
  },
  {
   "cell_type": "code",
   "execution_count": 3,
   "metadata": {},
   "outputs": [],
   "source": [
    "events = []\n",
    "for index, row in log.iterrows():\n",
    "    events.append({\n",
    "        \"ENTITY_ID\": row['case_id'], \n",
    "        \"TS\": row['timestamp'], \n",
    "        \"EVENT_NAME\":f\"{row['activity']}-{row['lifecycle']}\"\n",
    "    })"
   ]
  },
  {
   "cell_type": "code",
   "execution_count": 23,
   "metadata": {},
   "outputs": [
    {
     "data": {
      "text/html": [
       "<style>.Select-control{.user-select: text;font-family: BlinkMacSystemFont,Roboto,Helvetica Neue,sans-serif !important;font-size: 12px !important;-webkit-box-direction: normal !important;font-weight: 700 !important;background-color: #fff;border-color: #d9d9d9 #ccc #b3b3b3;border-radius: 4px;border: 1px solid #ccc;color: #333;cursor: default;display: table;border-spacing: 0;border-collapse: separate;height: 36px;outline: 0;overflow: hidden;position: relative;width: 100%;box-sizing: border-box;} .Select-multi-value-wrapper{user-select: text;font-family: BlinkMacSystemFont,Roboto,Helvetica Neue,sans-serif !important;font-size: 12px !important;-webkit-box-direction: normal !important;font-weight: 700 !important;color: #333;cursor: default;border-spacing: 0;border-collapse: separate;box-sizing: border-box;} .Select-value{user-select: text;font-family: BlinkMacSystemFont,Roboto,Helvetica Neue,sans-serif !important;font-size: 12px !important;-webkit-box-direction: normal !important;font-weight: 700 !important;cursor: default;border-spacing: 0;border-collapse: separate;box-sizing: border-box;bottom: 0;color: #aaa;left: 0;line-height: 34px;padding-left: 10px;padding-right: 10px;position: absolute;right: 0;top: 0;max-width: 100%;overflow: hidden;text-overflow: ellipsis;white-space: nowrap;}  .Select-input{user-select: text;font-family: BlinkMacSystemFont,Roboto,Helvetica Neue,sans-serif !important;font-size: 12px !important;-webkit-box-direction: normal !important;font-weight: 700 !important;color: #333;cursor: default;border-spacing: 0;border-collapse: separate;height: 34px;padding-left: 10px;padding-right: 10px;vertical-align: middle;box-sizing: border-box;display: inline-block;} .Select-arrow-zone{user-select: text;font-family: BlinkMacSystemFont,Roboto,Helvetica Neue,sans-serif !important;font-size: 12px !important;-webkit-box-direction: normal !important;font-weight: 700 !important;color: #333;border-spacing: 0;border-collapse: separate;cursor: pointer;display: table-cell;position: relative;text-align: center;vertical-align: middle;width: 25px;box-sizing: border-box;padding-right: 5px;} .Select-menu-outer{background-color: lightgrey; border-radius:2px;} .SplitPane{flex-direction: column !important; overflow: auto !important;} .Resizer.vertical{display:none;} ._lqge4f{display: flex; flex-direction: row; flex-wrap: wrap; justify-content:space-between; width: 50vw;} ._lqge4f div{margin:1%;} ._wgmchy{flex-direction:row !important} .vx-legend{height: 25vh; overflow-y:auto;}</style>"
      ],
      "text/plain": [
       "<IPython.core.display.HTML object>"
      ]
     },
     "execution_count": 23,
     "metadata": {},
     "output_type": "execute_result"
    }
   ],
   "source": [
    "from ntnu_process_mining import EventFlow\n",
    "from IPython.display import HTML\n",
    "HTML('<style>.Select-control{.user-select: text;font-family: BlinkMacSystemFont,Roboto,Helvetica Neue,sans-serif !important;font-size: 12px !important;-webkit-box-direction: normal !important;font-weight: 700 !important;background-color: #fff;border-color: #d9d9d9 #ccc #b3b3b3;border-radius: 4px;border: 1px solid #ccc;color: #333;cursor: default;display: table;border-spacing: 0;border-collapse: separate;height: 36px;outline: 0;overflow: hidden;position: relative;width: 100%;box-sizing: border-box;} .Select-multi-value-wrapper{user-select: text;font-family: BlinkMacSystemFont,Roboto,Helvetica Neue,sans-serif !important;font-size: 12px !important;-webkit-box-direction: normal !important;font-weight: 700 !important;color: #333;cursor: default;border-spacing: 0;border-collapse: separate;box-sizing: border-box;} .Select-value{user-select: text;font-family: BlinkMacSystemFont,Roboto,Helvetica Neue,sans-serif !important;font-size: 12px !important;-webkit-box-direction: normal !important;font-weight: 700 !important;cursor: default;border-spacing: 0;border-collapse: separate;box-sizing: border-box;bottom: 0;color: #aaa;left: 0;line-height: 34px;padding-left: 10px;padding-right: 10px;position: absolute;right: 0;top: 0;max-width: 100%;overflow: hidden;text-overflow: ellipsis;white-space: nowrap;}  .Select-input{user-select: text;font-family: BlinkMacSystemFont,Roboto,Helvetica Neue,sans-serif !important;font-size: 12px !important;-webkit-box-direction: normal !important;font-weight: 700 !important;color: #333;cursor: default;border-spacing: 0;border-collapse: separate;height: 34px;padding-left: 10px;padding-right: 10px;vertical-align: middle;box-sizing: border-box;display: inline-block;} .Select-arrow-zone{user-select: text;font-family: BlinkMacSystemFont,Roboto,Helvetica Neue,sans-serif !important;font-size: 12px !important;-webkit-box-direction: normal !important;font-weight: 700 !important;color: #333;border-spacing: 0;border-collapse: separate;cursor: pointer;display: table-cell;position: relative;text-align: center;vertical-align: middle;width: 25px;box-sizing: border-box;padding-right: 5px;} .Select-menu-outer{background-color: lightgrey; border-radius:2px;} .SplitPane{flex-direction: column !important; overflow: auto !important;} .Resizer.vertical{display:none;} ._lqge4f{display: flex; flex-direction: row; flex-wrap: wrap; justify-content:space-between; width: 50vw;} ._lqge4f div{margin:1%;} ._wgmchy{flex-direction:row !important} .vx-legend{height: 25vh; overflow-y:auto;}</style>')\n"
   ]
  },
  {
   "cell_type": "code",
   "execution_count": 24,
   "metadata": {},
   "outputs": [
    {
     "data": {
      "application/vnd.jupyter.widget-view+json": {
       "model_id": "0ff14ae3bf304a49904f930c029be126",
       "version_major": 2,
       "version_minor": 0
      },
      "text/plain": [
       "EventFlow(value=[{'ENTITY_ID': 'A', 'TS': Timestamp('2014-10-22 11:15:41+0000', tz='UTC'), 'EVENT_NAME': 'ER R…"
      ]
     },
     "metadata": {},
     "output_type": "display_data"
    }
   ],
   "source": [
    "ef = EventFlow()\n",
    "ef.value = events\n",
    "\n",
    "ef"
   ]
  },
  {
   "cell_type": "code",
   "execution_count": null,
   "metadata": {},
   "outputs": [],
   "source": []
  }
 ],
 "metadata": {
  "kernelspec": {
   "display_name": "Python 3",
   "language": "python",
   "name": "python3"
  },
  "language_info": {
   "codemirror_mode": {
    "name": "ipython",
    "version": 3
   },
   "file_extension": ".py",
   "mimetype": "text/x-python",
   "name": "python",
   "nbconvert_exporter": "python",
   "pygments_lexer": "ipython3",
   "version": "3.7.4"
  },
  "widgets": {
   "application/vnd.jupyter.widget-state+json": {
    "state": {
     "4ddebcb62a2f40d69669d33369161b99": {
      "model_module": "@jupyter-widgets/base",
      "model_module_version": "1.2.0",
      "model_name": "LayoutModel",
      "state": {}
     },
     "6b543a702c2c4a9db9e09ad1d97ea4a9": {
      "model_module": "ntnu-process-mining",
      "model_module_version": "^0.1.0",
      "model_name": "ProcessMapModel",
      "state": {
       "_model_module_version": "^0.1.0",
       "_view_module_version": "^0.1.0",
       "layout": "IPY_MODEL_4ddebcb62a2f40d69669d33369161b99",
       "value": [
        {
         "from": "Admission IC",
         "to": "CRP",
         "value": 32
        },
        {
         "from": "Admission IC",
         "to": "LacticAcid",
         "value": 41
        },
        {
         "from": "Admission IC",
         "to": "Leucocytes",
         "value": 38
        },
        {
         "from": "Admission NC",
         "to": "Admission IC",
         "value": 20
        },
        {
         "from": "Admission NC",
         "to": "Admission NC",
         "value": 174
        },
        {
         "from": "Admission NC",
         "to": "CRP",
         "value": 369
        },
        {
         "from": "Admission NC",
         "to": "IV Liquid",
         "value": 22
        },
        {
         "from": "Admission NC",
         "to": "LacticAcid",
         "value": 27
        },
        {
         "from": "Admission NC",
         "to": "Leucocytes",
         "value": 407
        },
        {
         "from": "Admission NC",
         "to": "Release A",
         "value": 117
        },
        {
         "from": "Admission NC",
         "to": "Release B",
         "value": 17
        },
        {
         "from": "CRP",
         "to": "Admission IC",
         "value": 17
        },
        {
         "from": "CRP",
         "to": "Admission NC",
         "value": 187
        },
        {
         "from": "CRP",
         "to": "CRP",
         "value": 316
        },
        {
         "from": "CRP",
         "to": "ER Registration",
         "value": 14
        },
        {
         "from": "CRP",
         "to": "ER Sepsis Triage",
         "value": 35
        },
        {
         "from": "CRP",
         "to": "ER Triage",
         "value": 16
        },
        {
         "from": "CRP",
         "to": "IV Antibiotics",
         "value": 81
        },
        {
         "from": "CRP",
         "to": "IV Liquid",
         "value": 111
        },
        {
         "from": "CRP",
         "to": "LacticAcid",
         "value": 627
        },
        {
         "from": "CRP",
         "to": "Leucocytes",
         "value": 1443
        },
        {
         "from": "CRP",
         "to": "Release A",
         "value": 322
        },
        {
         "from": "CRP",
         "to": "Release B",
         "value": 19
        },
        {
         "from": "CRP",
         "to": "Release C",
         "value": 13
        },
        {
         "from": "CRP",
         "to": "Release D",
         "value": 12
        },
        {
         "from": "ER Registration",
         "to": "CRP",
         "value": 14
        },
        {
         "from": "ER Registration",
         "to": "ER Sepsis Triage",
         "value": 11
        },
        {
         "from": "ER Registration",
         "to": "ER Triage",
         "value": 970
        },
        {
         "from": "ER Registration",
         "to": "IV Liquid",
         "value": 22
        },
        {
         "from": "ER Registration",
         "to": "Leucocytes",
         "value": 21
        },
        {
         "from": "ER Sepsis Triage",
         "to": "Admission NC",
         "value": 19
        },
        {
         "from": "ER Sepsis Triage",
         "to": "CRP",
         "value": 192
        },
        {
         "from": "ER Sepsis Triage",
         "to": "IV Antibiotics",
         "value": 75
        },
        {
         "from": "ER Sepsis Triage",
         "to": "IV Liquid",
         "value": 285
        },
        {
         "from": "ER Sepsis Triage",
         "to": "LacticAcid",
         "value": 148
        },
        {
         "from": "ER Sepsis Triage",
         "to": "Leucocytes",
         "value": 269
        },
        {
         "from": "ER Triage",
         "to": "CRP",
         "value": 48
        },
        {
         "from": "ER Triage",
         "to": "ER Sepsis Triage",
         "value": 904
        },
        {
         "from": "ER Triage",
         "to": "IV Liquid",
         "value": 11
        },
        {
         "from": "ER Triage",
         "to": "LacticAcid",
         "value": 29
        },
        {
         "from": "ER Triage",
         "to": "Leucocytes",
         "value": 52
        },
        {
         "from": "IV Antibiotics",
         "to": "Admission IC",
         "value": 46
        },
        {
         "from": "IV Antibiotics",
         "to": "Admission NC",
         "value": 489
        },
        {
         "from": "IV Antibiotics",
         "to": "CRP",
         "value": 48
        },
        {
         "from": "IV Antibiotics",
         "to": "IV Liquid",
         "value": 61
        },
        {
         "from": "IV Antibiotics",
         "to": "LacticAcid",
         "value": 28
        },
        {
         "from": "IV Antibiotics",
         "to": "Leucocytes",
         "value": 53
        },
        {
         "from": "IV Liquid",
         "to": "Admission NC",
         "value": 52
        },
        {
         "from": "IV Liquid",
         "to": "CRP",
         "value": 46
        },
        {
         "from": "IV Liquid",
         "to": "ER Registration",
         "value": 15
        },
        {
         "from": "IV Liquid",
         "to": "ER Triage",
         "value": 23
        },
        {
         "from": "IV Liquid",
         "to": "IV Antibiotics",
         "value": 501
        },
        {
         "from": "IV Liquid",
         "to": "LacticAcid",
         "value": 36
        },
        {
         "from": "IV Liquid",
         "to": "Leucocytes",
         "value": 54
        },
        {
         "from": "LacticAcid",
         "to": "Admission NC",
         "value": 101
        },
        {
         "from": "LacticAcid",
         "to": "CRP",
         "value": 404
        },
        {
         "from": "LacticAcid",
         "to": "ER Sepsis Triage",
         "value": 42
        },
        {
         "from": "LacticAcid",
         "to": "ER Triage",
         "value": 14
        },
        {
         "from": "LacticAcid",
         "to": "IV Antibiotics",
         "value": 89
        },
        {
         "from": "LacticAcid",
         "to": "IV Liquid",
         "value": 124
        },
        {
         "from": "LacticAcid",
         "to": "LacticAcid",
         "value": 83
        },
        {
         "from": "LacticAcid",
         "to": "Leucocytes",
         "value": 564
        },
        {
         "from": "Leucocytes",
         "to": "Admission IC",
         "value": 18
        },
        {
         "from": "Leucocytes",
         "to": "Admission NC",
         "value": 153
        },
        {
         "from": "Leucocytes",
         "to": "CRP",
         "value": 1774
        },
        {
         "from": "Leucocytes",
         "to": "ER Registration",
         "value": 14
        },
        {
         "from": "Leucocytes",
         "to": "ER Sepsis Triage",
         "value": 36
        },
        {
         "from": "Leucocytes",
         "to": "ER Triage",
         "value": 11
        },
        {
         "from": "Leucocytes",
         "to": "IV Antibiotics",
         "value": 73
        },
        {
         "from": "Leucocytes",
         "to": "IV Liquid",
         "value": 102
        },
        {
         "from": "Leucocytes",
         "to": "LacticAcid",
         "value": 435
        },
        {
         "from": "Leucocytes",
         "to": "Leucocytes",
         "value": 454
        },
        {
         "from": "Leucocytes",
         "to": "Release A",
         "value": 225
        },
        {
         "from": "Leucocytes",
         "to": "Release B",
         "value": 14
        },
        {
         "from": "Release A",
         "to": "Return ER",
         "value": 276
        }
       ]
      }
     }
    },
    "version_major": 2,
    "version_minor": 0
   }
  }
 },
 "nbformat": 4,
 "nbformat_minor": 2
}
