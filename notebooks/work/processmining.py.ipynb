{
 "cells": [
  {
   "cell_type": "markdown",
   "metadata": {},
   "source": [
    "<h2> Nav event-flow example </h2>\n",
    "<h3> The following example shows how easy you can use the event-flow widget </h3>\n",
    "<h3> Follow these steps: </h3>\n",
    "    <ul>\n",
    "        <li>Import the eventFlow method from the ntnu_process_mining library</li>\n",
    "        <li> Run the eventFlow command with the path to your csv-file as an argument</li>\n",
    "    </ul>"
   ]
  },
  {
   "cell_type": "code",
   "execution_count": 2,
   "metadata": {
    "scrolled": false
   },
   "outputs": [
    {
     "data": {
      "application/vnd.jupyter.widget-view+json": {
       "model_id": "664bab6f8a6646efbedcc93d9c64d71f",
       "version_major": 2,
       "version_minor": 0
      },
      "text/plain": [
       "EventFlow(value=[{'ENTITY_ID': 'A', 'TS': Timestamp('2014-10-22 11:15:41+0000', tz='UTC'), 'EVENT_NAME': 'ER R…"
      ]
     },
     "metadata": {},
     "output_type": "display_data"
    }
   ],
   "source": [
    "from ntnu_process_mining.eventFlow import eventFlow\n",
    "eventFlow('sepsis.csv')"
   ]
  },
  {
   "cell_type": "markdown",
   "metadata": {},
   "source": [
    "<h2>Use the control pane to adjust the visualization to your needs </h2>\n",
    "<h3>The control pane consists of five interactive settings that you can adjust</h3>\n",
    "<ul>\n",
    "    <li>Align sequences by: Alligns all sequnces with basis in one of the events. This makes it easier to see events leading in to an event as well as leading out from an event.</li>\n",
    "    <li>Event type summary: Shows a summary of how many events it is, how many instances of each event etc. You can exclude spescific events from this setting.</li>\n",
    "    <li>Hide nodes with less  than x events: Hides sequences that has less than what you input events</li>\n",
    "    <li>X-axis: dictates what the x-axis should show. Either event sequence or the time that has elapsed</li>\n",
    "    <li>The last setting changes the order in which the sequences is displayd down the y-axis.</li>\n",
    "</ul>\n"
   ]
  }
 ],
 "metadata": {
  "kernelspec": {
   "display_name": "Python 3",
   "language": "python",
   "name": "python3"
  },
  "language_info": {
   "codemirror_mode": {
    "name": "ipython",
    "version": 3
   },
   "file_extension": ".py",
   "mimetype": "text/x-python",
   "name": "python",
   "nbconvert_exporter": "python",
   "pygments_lexer": "ipython3",
   "version": "3.7.4"
  },
  "widgets": {
   "application/vnd.jupyter.widget-state+json": {
    "state": {
     "4ddebcb62a2f40d69669d33369161b99": {
      "model_module": "@jupyter-widgets/base",
      "model_module_version": "1.2.0",
      "model_name": "LayoutModel",
      "state": {}
     },
     "6b543a702c2c4a9db9e09ad1d97ea4a9": {
      "model_module": "ntnu-process-mining",
      "model_module_version": "^0.1.0",
      "model_name": "ProcessMapModel",
      "state": {
       "_model_module_version": "^0.1.0",
       "_view_module_version": "^0.1.0",
       "layout": "IPY_MODEL_4ddebcb62a2f40d69669d33369161b99",
       "value": [
        {
         "from": "Admission IC",
         "to": "CRP",
         "value": 32
        },
        {
         "from": "Admission IC",
         "to": "LacticAcid",
         "value": 41
        },
        {
         "from": "Admission IC",
         "to": "Leucocytes",
         "value": 38
        },
        {
         "from": "Admission NC",
         "to": "Admission IC",
         "value": 20
        },
        {
         "from": "Admission NC",
         "to": "Admission NC",
         "value": 174
        },
        {
         "from": "Admission NC",
         "to": "CRP",
         "value": 369
        },
        {
         "from": "Admission NC",
         "to": "IV Liquid",
         "value": 22
        },
        {
         "from": "Admission NC",
         "to": "LacticAcid",
         "value": 27
        },
        {
         "from": "Admission NC",
         "to": "Leucocytes",
         "value": 407
        },
        {
         "from": "Admission NC",
         "to": "Release A",
         "value": 117
        },
        {
         "from": "Admission NC",
         "to": "Release B",
         "value": 17
        },
        {
         "from": "CRP",
         "to": "Admission IC",
         "value": 17
        },
        {
         "from": "CRP",
         "to": "Admission NC",
         "value": 187
        },
        {
         "from": "CRP",
         "to": "CRP",
         "value": 316
        },
        {
         "from": "CRP",
         "to": "ER Registration",
         "value": 14
        },
        {
         "from": "CRP",
         "to": "ER Sepsis Triage",
         "value": 35
        },
        {
         "from": "CRP",
         "to": "ER Triage",
         "value": 16
        },
        {
         "from": "CRP",
         "to": "IV Antibiotics",
         "value": 81
        },
        {
         "from": "CRP",
         "to": "IV Liquid",
         "value": 111
        },
        {
         "from": "CRP",
         "to": "LacticAcid",
         "value": 627
        },
        {
         "from": "CRP",
         "to": "Leucocytes",
         "value": 1443
        },
        {
         "from": "CRP",
         "to": "Release A",
         "value": 322
        },
        {
         "from": "CRP",
         "to": "Release B",
         "value": 19
        },
        {
         "from": "CRP",
         "to": "Release C",
         "value": 13
        },
        {
         "from": "CRP",
         "to": "Release D",
         "value": 12
        },
        {
         "from": "ER Registration",
         "to": "CRP",
         "value": 14
        },
        {
         "from": "ER Registration",
         "to": "ER Sepsis Triage",
         "value": 11
        },
        {
         "from": "ER Registration",
         "to": "ER Triage",
         "value": 970
        },
        {
         "from": "ER Registration",
         "to": "IV Liquid",
         "value": 22
        },
        {
         "from": "ER Registration",
         "to": "Leucocytes",
         "value": 21
        },
        {
         "from": "ER Sepsis Triage",
         "to": "Admission NC",
         "value": 19
        },
        {
         "from": "ER Sepsis Triage",
         "to": "CRP",
         "value": 192
        },
        {
         "from": "ER Sepsis Triage",
         "to": "IV Antibiotics",
         "value": 75
        },
        {
         "from": "ER Sepsis Triage",
         "to": "IV Liquid",
         "value": 285
        },
        {
         "from": "ER Sepsis Triage",
         "to": "LacticAcid",
         "value": 148
        },
        {
         "from": "ER Sepsis Triage",
         "to": "Leucocytes",
         "value": 269
        },
        {
         "from": "ER Triage",
         "to": "CRP",
         "value": 48
        },
        {
         "from": "ER Triage",
         "to": "ER Sepsis Triage",
         "value": 904
        },
        {
         "from": "ER Triage",
         "to": "IV Liquid",
         "value": 11
        },
        {
         "from": "ER Triage",
         "to": "LacticAcid",
         "value": 29
        },
        {
         "from": "ER Triage",
         "to": "Leucocytes",
         "value": 52
        },
        {
         "from": "IV Antibiotics",
         "to": "Admission IC",
         "value": 46
        },
        {
         "from": "IV Antibiotics",
         "to": "Admission NC",
         "value": 489
        },
        {
         "from": "IV Antibiotics",
         "to": "CRP",
         "value": 48
        },
        {
         "from": "IV Antibiotics",
         "to": "IV Liquid",
         "value": 61
        },
        {
         "from": "IV Antibiotics",
         "to": "LacticAcid",
         "value": 28
        },
        {
         "from": "IV Antibiotics",
         "to": "Leucocytes",
         "value": 53
        },
        {
         "from": "IV Liquid",
         "to": "Admission NC",
         "value": 52
        },
        {
         "from": "IV Liquid",
         "to": "CRP",
         "value": 46
        },
        {
         "from": "IV Liquid",
         "to": "ER Registration",
         "value": 15
        },
        {
         "from": "IV Liquid",
         "to": "ER Triage",
         "value": 23
        },
        {
         "from": "IV Liquid",
         "to": "IV Antibiotics",
         "value": 501
        },
        {
         "from": "IV Liquid",
         "to": "LacticAcid",
         "value": 36
        },
        {
         "from": "IV Liquid",
         "to": "Leucocytes",
         "value": 54
        },
        {
         "from": "LacticAcid",
         "to": "Admission NC",
         "value": 101
        },
        {
         "from": "LacticAcid",
         "to": "CRP",
         "value": 404
        },
        {
         "from": "LacticAcid",
         "to": "ER Sepsis Triage",
         "value": 42
        },
        {
         "from": "LacticAcid",
         "to": "ER Triage",
         "value": 14
        },
        {
         "from": "LacticAcid",
         "to": "IV Antibiotics",
         "value": 89
        },
        {
         "from": "LacticAcid",
         "to": "IV Liquid",
         "value": 124
        },
        {
         "from": "LacticAcid",
         "to": "LacticAcid",
         "value": 83
        },
        {
         "from": "LacticAcid",
         "to": "Leucocytes",
         "value": 564
        },
        {
         "from": "Leucocytes",
         "to": "Admission IC",
         "value": 18
        },
        {
         "from": "Leucocytes",
         "to": "Admission NC",
         "value": 153
        },
        {
         "from": "Leucocytes",
         "to": "CRP",
         "value": 1774
        },
        {
         "from": "Leucocytes",
         "to": "ER Registration",
         "value": 14
        },
        {
         "from": "Leucocytes",
         "to": "ER Sepsis Triage",
         "value": 36
        },
        {
         "from": "Leucocytes",
         "to": "ER Triage",
         "value": 11
        },
        {
         "from": "Leucocytes",
         "to": "IV Antibiotics",
         "value": 73
        },
        {
         "from": "Leucocytes",
         "to": "IV Liquid",
         "value": 102
        },
        {
         "from": "Leucocytes",
         "to": "LacticAcid",
         "value": 435
        },
        {
         "from": "Leucocytes",
         "to": "Leucocytes",
         "value": 454
        },
        {
         "from": "Leucocytes",
         "to": "Release A",
         "value": 225
        },
        {
         "from": "Leucocytes",
         "to": "Release B",
         "value": 14
        },
        {
         "from": "Release A",
         "to": "Return ER",
         "value": 276
        }
       ]
      }
     }
    },
    "version_major": 2,
    "version_minor": 0
   }
  }
 },
 "nbformat": 4,
 "nbformat_minor": 2
}
