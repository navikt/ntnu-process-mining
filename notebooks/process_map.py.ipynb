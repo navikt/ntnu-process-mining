{
 "cells": [
  {
   "cell_type": "markdown",
   "metadata": {},
   "source": [
    "## NAV Process Map\n",
    "The ProcessMap class can be used to display an interactive Process Map of your data frame. Inspired by [bupaR Process Map](https://www.bupar.net/processmaps.html).\n",
    "\n",
    "The Widget supports interactivity by moving nodes and hovering over nodes and edges for more detailed information. You can also filter the frequency of traces in order to display only a subset of data. Lastly, you can choose which labels the edges should display.\n"
   ]
  },
  {
   "cell_type": "code",
   "execution_count": 1,
   "metadata": {
    "scrolled": false
   },
   "outputs": [
    {
     "data": {
      "application/vnd.jupyter.widget-view+json": {
       "model_id": "266bf25e0d3a46d6aea998e4ab25c71c",
       "version_major": 2,
       "version_minor": 0
      },
      "text/plain": [
       "ProcessMap(value=[{'from': 'START', 'to': 'ER Registration', 'freq': 264, 'abs_freq': 264, 'perf': '0', 'perf_…"
      ]
     },
     "metadata": {},
     "output_type": "display_data"
    }
   ],
   "source": [
    "import os\n",
    "from ntnu_process_mining import ProcessMap\n",
    "\n",
    "from pandas import read_csv\n",
    "\n",
    "file = read_csv(os.path.join(\"files\", \"sepsis.csv\"))\n",
    "# This is needed because the sepsis dataset has some rows where case_id = NaN\n",
    "df = file.fillna(value={'case_id':\"N/A\"})\n",
    "\n",
    "ProcessMap(df)"
   ]
  }
 ],
 "metadata": {
  "kernelspec": {
   "display_name": "Python 3",
   "language": "python",
   "name": "python3"
  },
  "language_info": {
   "codemirror_mode": {
    "name": "ipython",
    "version": 3
   },
   "file_extension": ".py",
   "mimetype": "text/x-python",
   "name": "python",
   "nbconvert_exporter": "python",
   "pygments_lexer": "ipython3",
   "version": "3.6.5"
  },
  "widgets": {
   "application/vnd.jupyter.widget-state+json": {
    "state": {
     "05c2f54b04844afb91a95d6eab53ebd0": {
      "model_module": "@jupyter-widgets/base",
      "model_module_version": "1.2.0",
      "model_name": "LayoutModel",
      "state": {}
     },
     "266bf25e0d3a46d6aea998e4ab25c71c": {
      "model_module": "ntnu-process-mining",
      "model_module_version": "^0.1.0",
      "model_name": "ProcessMapModel",
      "state": {
       "_model_module_version": "^0.1.0",
       "_view_module_version": "^0.1.0",
       "filter": 10,
       "layout": "IPY_MODEL_e213d05ca7df4369b135a1c1411d03c5",
       "value": [
        {
         "abs_freq": 114,
         "freq": 114,
         "from": "START",
         "perf": "0",
         "perf_med": "0",
         "to": "ER Registration"
        },
        {
         "abs_freq": 33,
         "freq": 33,
         "from": "CRP",
         "perf": "0:00:00",
         "perf_med": "0:00:00",
         "to": "LacticAcid"
        },
        {
         "abs_freq": 22,
         "freq": 22,
         "from": "CRP",
         "perf": "0:00:00",
         "perf_med": "0:00:00",
         "to": "Leucocytes"
        },
        {
         "abs_freq": 114,
         "freq": 114,
         "from": "ER Registration",
         "perf": "0:12:23",
         "perf_med": "0:08:26",
         "to": "ER Triage"
        },
        {
         "abs_freq": 35,
         "freq": 35,
         "from": "ER Sepsis Triage",
         "perf": "0:13:50",
         "perf_med": "0:10:55",
         "to": "CRP"
        },
        {
         "abs_freq": 44,
         "freq": 44,
         "from": "ER Sepsis Triage",
         "perf": "0:19:39",
         "perf_med": "0:15:46",
         "to": "Leucocytes"
        },
        {
         "abs_freq": 114,
         "freq": 114,
         "from": "ER Triage",
         "perf": "0:03:31",
         "perf_med": "0:00:26",
         "to": "ER Sepsis Triage"
        },
        {
         "abs_freq": 22,
         "freq": 22,
         "from": "IV Liquid",
         "perf": "0:01:34",
         "perf_med": "0:00:05",
         "to": "IV Antibiotics"
        },
        {
         "abs_freq": 9,
         "freq": 9,
         "from": "LacticAcid",
         "perf": "3:00:28",
         "perf_med": "2:29:44",
         "to": "IV Liquid"
        },
        {
         "abs_freq": 13,
         "freq": 13,
         "from": "LacticAcid",
         "perf": "0:00:00",
         "perf_med": "0:00:00",
         "to": "Leucocytes"
        },
        {
         "abs_freq": 44,
         "freq": 44,
         "from": "Leucocytes",
         "perf": "0:00:00",
         "perf_med": "0:00:00",
         "to": "CRP"
        },
        {
         "abs_freq": 13,
         "freq": 13,
         "from": "Leucocytes",
         "perf": "1:39:31",
         "perf_med": "1:08:42",
         "to": "IV Liquid"
        },
        {
         "abs_freq": 22,
         "freq": 22,
         "from": "IV Antibiotics",
         "perf": "0",
         "perf_med": "0",
         "to": "END"
        },
        {
         "abs_freq": 35,
         "freq": 35,
         "from": "ER Sepsis Triage",
         "perf": "0",
         "perf_med": "0",
         "to": "END"
        },
        {
         "abs_freq": 24,
         "freq": 24,
         "from": "CRP",
         "perf": "0",
         "perf_med": "0",
         "to": "END"
        },
        {
         "abs_freq": 11,
         "freq": 11,
         "from": "LacticAcid",
         "perf": "0",
         "perf_med": "0",
         "to": "END"
        },
        {
         "abs_freq": 22,
         "freq": 22,
         "from": "Leucocytes",
         "perf": "0",
         "perf_med": "0",
         "to": "END"
        }
       ]
      }
     },
     "296342e132ff4e1490cb9714334810c7": {
      "model_module": "@jupyter-widgets/base",
      "model_module_version": "1.2.0",
      "model_name": "LayoutModel",
      "state": {}
     },
     "334d6fd1badf45ecafcd8da91bcac4a1": {
      "model_module": "@jupyter-widgets/base",
      "model_module_version": "1.2.0",
      "model_name": "LayoutModel",
      "state": {}
     },
     "447a15c7fd6f43b384894ead3c5a3c19": {
      "model_module": "ntnu-process-mining",
      "model_module_version": "^0.1.0",
      "model_name": "ProcessMapModel",
      "state": {
       "_model_module_version": "^0.1.0",
       "_view_module_version": "^0.1.0",
       "filter": 23,
       "layout": "IPY_MODEL_296342e132ff4e1490cb9714334810c7",
       "value": [
        {
         "from": "ER Registration",
         "to": "ER Triage",
         "value": 59
        },
        {
         "from": "ER Sepsis Triage",
         "to": "Leucocytes",
         "value": 24
        },
        {
         "from": "ER Triage",
         "to": "ER Sepsis Triage",
         "value": 59
        },
        {
         "from": "Leucocytes",
         "to": "CRP",
         "value": 24
        }
       ]
      }
     },
     "662efa9bf77d49519725186224896609": {
      "model_module": "@jupyter-widgets/base",
      "model_module_version": "1.2.0",
      "model_name": "LayoutModel",
      "state": {}
     },
     "8f49d48b20624395a560ef1d5af0d0b3": {
      "model_module": "ntnu-process-mining",
      "model_module_version": "^0.1.0",
      "model_name": "ProcessMapModel",
      "state": {
       "_model_module_version": "^0.1.0",
       "_view_module_version": "^0.1.0",
       "layout": "IPY_MODEL_334d6fd1badf45ecafcd8da91bcac4a1",
       "value": [
        {
         "abs_freq": 264,
         "freq": 264,
         "from": "START",
         "perf": "0",
         "perf_med": "0",
         "to": "ER Registration"
        },
        {
         "abs_freq": 4,
         "freq": 4,
         "from": "Admission NC",
         "perf": "9:26:08",
         "perf_med": "10:00:12",
         "to": "Admission NC"
        },
        {
         "abs_freq": 21,
         "freq": 21,
         "from": "Admission NC",
         "perf": "1 day, 14:59:47",
         "perf_med": "1 day, 8:54:36",
         "to": "CRP"
        },
        {
         "abs_freq": 36,
         "freq": 38,
         "from": "Admission NC",
         "perf": "1 day, 15:38:11",
         "perf_med": "1 day, 14:25:12",
         "to": "Leucocytes"
        },
        {
         "abs_freq": 26,
         "freq": 26,
         "from": "Admission NC",
         "perf": "2 days, 22:16:37",
         "perf_med": "2 days, 20:31:28",
         "to": "Release A"
        },
        {
         "abs_freq": 2,
         "freq": 2,
         "from": "Admission NC",
         "perf": "2 days, 16:29:24",
         "perf_med": "2 days, 16:29:24",
         "to": "Release B"
        },
        {
         "abs_freq": 14,
         "freq": 14,
         "from": "CRP",
         "perf": "3:27:10",
         "perf_med": "2:37:08",
         "to": "Admission NC"
        },
        {
         "abs_freq": 4,
         "freq": 4,
         "from": "CRP",
         "perf": "1 day, 11:24:45",
         "perf_med": "1 day, 13:49:30",
         "to": "CRP"
        },
        {
         "abs_freq": 7,
         "freq": 7,
         "from": "CRP",
         "perf": "0:26:39",
         "perf_med": "0:10:56",
         "to": "ER Sepsis Triage"
        },
        {
         "abs_freq": 7,
         "freq": 7,
         "from": "CRP",
         "perf": "2:07:57",
         "perf_med": "1:55:33",
         "to": "IV Antibiotics"
        },
        {
         "abs_freq": 30,
         "freq": 30,
         "from": "CRP",
         "perf": "2:08:52",
         "perf_med": "2:13:10",
         "to": "IV Liquid"
        },
        {
         "abs_freq": 88,
         "freq": 88,
         "from": "CRP",
         "perf": "0:00:33",
         "perf_med": "0:00:00",
         "to": "LacticAcid"
        },
        {
         "abs_freq": 74,
         "freq": 80,
         "from": "CRP",
         "perf": "3:33:25",
         "perf_med": "0:00:00",
         "to": "Leucocytes"
        },
        {
         "abs_freq": 39,
         "freq": 39,
         "from": "CRP",
         "perf": "1 day, 14:50:58",
         "perf_med": "1 day, 6:00:00",
         "to": "Release A"
        },
        {
         "abs_freq": 264,
         "freq": 264,
         "from": "ER Registration",
         "perf": "0:10:58",
         "perf_med": "0:07:29",
         "to": "ER Triage"
        },
        {
         "abs_freq": 2,
         "freq": 2,
         "from": "ER Sepsis Triage",
         "perf": "1:50:06",
         "perf_med": "1:50:06",
         "to": "Admission NC"
        },
        {
         "abs_freq": 61,
         "freq": 61,
         "from": "ER Sepsis Triage",
         "perf": "0:17:14",
         "perf_med": "0:12:29",
         "to": "CRP"
        },
        {
         "abs_freq": 37,
         "freq": 37,
         "from": "ER Sepsis Triage",
         "perf": "0:10:45",
         "perf_med": "0:00:20",
         "to": "IV Liquid"
        },
        {
         "abs_freq": 25,
         "freq": 25,
         "from": "ER Sepsis Triage",
         "perf": "0:15:50",
         "perf_med": "0:16:30",
         "to": "LacticAcid"
        },
        {
         "abs_freq": 95,
         "freq": 95,
         "from": "ER Sepsis Triage",
         "perf": "0:18:21",
         "perf_med": "0:13:51",
         "to": "Leucocytes"
        },
        {
         "abs_freq": 8,
         "freq": 8,
         "from": "ER Triage",
         "perf": "0:23:36",
         "perf_med": "0:15:15",
         "to": "CRP"
        },
        {
         "abs_freq": 246,
         "freq": 246,
         "from": "ER Triage",
         "perf": "0:02:36",
         "perf_med": "0:00:24",
         "to": "ER Sepsis Triage"
        },
        {
         "abs_freq": 3,
         "freq": 3,
         "from": "ER Triage",
         "perf": "0:08:55",
         "perf_med": "0:07:59",
         "to": "LacticAcid"
        },
        {
         "abs_freq": 7,
         "freq": 7,
         "from": "ER Triage",
         "perf": "0:12:40",
         "perf_med": "0:12:27",
         "to": "Leucocytes"
        },
        {
         "abs_freq": 64,
         "freq": 64,
         "from": "IV Antibiotics",
         "perf": "0:33:14",
         "perf_med": "0:01:48",
         "to": "Admission NC"
        },
        {
         "abs_freq": 4,
         "freq": 4,
         "from": "IV Antibiotics",
         "perf": "0:11:39",
         "perf_med": "0:07:52",
         "to": "CRP"
        },
        {
         "abs_freq": 2,
         "freq": 2,
         "from": "IV Antibiotics",
         "perf": "10:49:30",
         "perf_med": "10:49:30",
         "to": "IV Liquid"
        },
        {
         "abs_freq": 2,
         "freq": 2,
         "from": "IV Antibiotics",
         "perf": "0:04:25",
         "perf_med": "0:04:25",
         "to": "LacticAcid"
        },
        {
         "abs_freq": 8,
         "freq": 8,
         "from": "IV Antibiotics",
         "perf": "0:15:58",
         "perf_med": "0:12:17",
         "to": "Leucocytes"
        },
        {
         "abs_freq": 6,
         "freq": 6,
         "from": "IV Liquid",
         "perf": "0:06:51",
         "perf_med": "0:09:00",
         "to": "CRP"
        },
        {
         "abs_freq": 118,
         "freq": 118,
         "from": "IV Liquid",
         "perf": "0:17:03",
         "perf_med": "0:00:06",
         "to": "IV Antibiotics"
        },
        {
         "abs_freq": 8,
         "freq": 8,
         "from": "IV Liquid",
         "perf": "0:09:35",
         "perf_med": "0:06:12",
         "to": "Leucocytes"
        },
        {
         "abs_freq": 4,
         "freq": 4,
         "from": "LacticAcid",
         "perf": "2:43:30",
         "perf_med": "2:24:06",
         "to": "Admission NC"
        },
        {
         "abs_freq": 30,
         "freq": 30,
         "from": "LacticAcid",
         "perf": "0:00:00",
         "perf_med": "0:00:00",
         "to": "CRP"
        },
        {
         "abs_freq": 3,
         "freq": 3,
         "from": "LacticAcid",
         "perf": "0:29:15",
         "perf_med": "0:31:35",
         "to": "ER Sepsis Triage"
        },
        {
         "abs_freq": 9,
         "freq": 9,
         "from": "LacticAcid",
         "perf": "1:02:48",
         "perf_med": "0:18:31",
         "to": "IV Antibiotics"
        },
        {
         "abs_freq": 39,
         "freq": 39,
         "from": "LacticAcid",
         "perf": "2:20:29",
         "perf_med": "2:08:52",
         "to": "IV Liquid"
        },
        {
         "abs_freq": 57,
         "freq": 57,
         "from": "LacticAcid",
         "perf": "0:00:00",
         "perf_med": "0:00:00",
         "to": "Leucocytes"
        },
        {
         "abs_freq": 8,
         "freq": 8,
         "from": "Leucocytes",
         "perf": "2:26:44",
         "perf_med": "2:14:44",
         "to": "Admission NC"
        },
        {
         "abs_freq": 129,
         "freq": 166,
         "from": "Leucocytes",
         "perf": "1:44:06",
         "perf_med": "0:00:00",
         "to": "CRP"
        },
        {
         "abs_freq": 8,
         "freq": 8,
         "from": "Leucocytes",
         "perf": "1:01:47",
         "perf_med": "0:47:26",
         "to": "ER Sepsis Triage"
        },
        {
         "abs_freq": 2,
         "freq": 2,
         "from": "Leucocytes",
         "perf": "2:35:42",
         "perf_med": "2:35:42",
         "to": "IV Antibiotics"
        },
        {
         "abs_freq": 26,
         "freq": 26,
         "from": "Leucocytes",
         "perf": "1:48:27",
         "perf_med": "1:15:54",
         "to": "IV Liquid"
        },
        {
         "abs_freq": 39,
         "freq": 39,
         "from": "Leucocytes",
         "perf": "0:00:00",
         "perf_med": "0:00:00",
         "to": "LacticAcid"
        },
        {
         "abs_freq": 4,
         "freq": 4,
         "from": "Leucocytes",
         "perf": "2 days, 18:00:00",
         "perf_med": "2 days, 0:00:00",
         "to": "Leucocytes"
        },
        {
         "abs_freq": 16,
         "freq": 16,
         "from": "Leucocytes",
         "perf": "1 day, 15:19:45",
         "perf_med": "1 day, 6:00:00",
         "to": "Release A"
        },
        {
         "abs_freq": 27,
         "freq": 27,
         "from": "Release A",
         "perf": "83 days, 15:20:41",
         "perf_med": "38 days, 21:40:54",
         "to": "Return ER"
        },
        {
         "abs_freq": 56,
         "freq": 56,
         "from": "IV Antibiotics",
         "perf": "0",
         "perf_med": "0",
         "to": "END"
        },
        {
         "abs_freq": 44,
         "freq": 44,
         "from": "ER Sepsis Triage",
         "perf": "0",
         "perf_med": "0",
         "to": "END"
        },
        {
         "abs_freq": 31,
         "freq": 31,
         "from": "CRP",
         "perf": "0",
         "perf_med": "0",
         "to": "END"
        },
        {
         "abs_freq": 15,
         "freq": 15,
         "from": "LacticAcid",
         "perf": "0",
         "perf_med": "0",
         "to": "END"
        },
        {
         "abs_freq": 54,
         "freq": 54,
         "from": "Release A",
         "perf": "0",
         "perf_med": "0",
         "to": "END"
        },
        {
         "abs_freq": 28,
         "freq": 28,
         "from": "Leucocytes",
         "perf": "0",
         "perf_med": "0",
         "to": "END"
        },
        {
         "abs_freq": 27,
         "freq": 27,
         "from": "Return ER",
         "perf": "0",
         "perf_med": "0",
         "to": "END"
        },
        {
         "abs_freq": 2,
         "freq": 2,
         "from": "Release B",
         "perf": "0",
         "perf_med": "0",
         "to": "END"
        },
        {
         "abs_freq": 5,
         "freq": 5,
         "from": "Admission NC",
         "perf": "0",
         "perf_med": "0",
         "to": "END"
        },
        {
         "abs_freq": 2,
         "freq": 2,
         "from": "IV Liquid",
         "perf": "0",
         "perf_med": "0",
         "to": "END"
        }
       ]
      }
     },
     "a4ad9d5e9f884d0dbe197e425605fe11": {
      "model_module": "ntnu-process-mining",
      "model_module_version": "^0.1.0",
      "model_name": "ProcessMapModel",
      "state": {
       "_model_module_version": "^0.1.0",
       "_view_module_version": "^0.1.0",
       "filter": 10,
       "layout": "IPY_MODEL_05c2f54b04844afb91a95d6eab53ebd0",
       "value": [
        {
         "abs_freq": 114,
         "freq": 114,
         "from": "START",
         "perf": "0",
         "perf_med": "0",
         "to": "ER Registration"
        },
        {
         "abs_freq": 33,
         "freq": 33,
         "from": "CRP",
         "perf": "0:00:00",
         "perf_med": "0:00:00",
         "to": "LacticAcid"
        },
        {
         "abs_freq": 22,
         "freq": 22,
         "from": "CRP",
         "perf": "0:00:00",
         "perf_med": "0:00:00",
         "to": "Leucocytes"
        },
        {
         "abs_freq": 114,
         "freq": 114,
         "from": "ER Registration",
         "perf": "0:12:23",
         "perf_med": "0:08:26",
         "to": "ER Triage"
        },
        {
         "abs_freq": 35,
         "freq": 35,
         "from": "ER Sepsis Triage",
         "perf": "0:13:50",
         "perf_med": "0:10:55",
         "to": "CRP"
        },
        {
         "abs_freq": 44,
         "freq": 44,
         "from": "ER Sepsis Triage",
         "perf": "0:19:39",
         "perf_med": "0:15:46",
         "to": "Leucocytes"
        },
        {
         "abs_freq": 114,
         "freq": 114,
         "from": "ER Triage",
         "perf": "0:03:31",
         "perf_med": "0:00:26",
         "to": "ER Sepsis Triage"
        },
        {
         "abs_freq": 22,
         "freq": 22,
         "from": "IV Liquid",
         "perf": "0:01:34",
         "perf_med": "0:00:05",
         "to": "IV Antibiotics"
        },
        {
         "abs_freq": 9,
         "freq": 9,
         "from": "LacticAcid",
         "perf": "3:00:28",
         "perf_med": "2:29:44",
         "to": "IV Liquid"
        },
        {
         "abs_freq": 13,
         "freq": 13,
         "from": "LacticAcid",
         "perf": "0:00:00",
         "perf_med": "0:00:00",
         "to": "Leucocytes"
        },
        {
         "abs_freq": 44,
         "freq": 44,
         "from": "Leucocytes",
         "perf": "0:00:00",
         "perf_med": "0:00:00",
         "to": "CRP"
        },
        {
         "abs_freq": 13,
         "freq": 13,
         "from": "Leucocytes",
         "perf": "1:39:31",
         "perf_med": "1:08:42",
         "to": "IV Liquid"
        },
        {
         "abs_freq": 22,
         "freq": 22,
         "from": "IV Antibiotics",
         "perf": "0",
         "perf_med": "0",
         "to": "END"
        },
        {
         "abs_freq": 35,
         "freq": 35,
         "from": "ER Sepsis Triage",
         "perf": "0",
         "perf_med": "0",
         "to": "END"
        },
        {
         "abs_freq": 24,
         "freq": 24,
         "from": "CRP",
         "perf": "0",
         "perf_med": "0",
         "to": "END"
        },
        {
         "abs_freq": 11,
         "freq": 11,
         "from": "LacticAcid",
         "perf": "0",
         "perf_med": "0",
         "to": "END"
        },
        {
         "abs_freq": 22,
         "freq": 22,
         "from": "Leucocytes",
         "perf": "0",
         "perf_med": "0",
         "to": "END"
        }
       ]
      }
     },
     "bf73c21f0e6e413f82551f2336b319bf": {
      "model_module": "ntnu-process-mining",
      "model_module_version": "^0.1.0",
      "model_name": "ProcessMapModel",
      "state": {
       "_model_module_version": "^0.1.0",
       "_view_module_version": "^0.1.0",
       "filter": 9,
       "layout": "IPY_MODEL_662efa9bf77d49519725186224896609",
       "value": [
        {
         "from": "CRP",
         "to": "LacticAcid",
         "value": 24
        },
        {
         "from": "CRP",
         "to": "Leucocytes",
         "value": 22
        },
        {
         "from": "ER Registration",
         "to": "ER Triage",
         "value": 105
        },
        {
         "from": "ER Sepsis Triage",
         "to": "CRP",
         "value": 35
        },
        {
         "from": "ER Sepsis Triage",
         "to": "Leucocytes",
         "value": 35
        },
        {
         "from": "ER Triage",
         "to": "ER Sepsis Triage",
         "value": 105
        },
        {
         "from": "IV Liquid",
         "to": "IV Antibiotics",
         "value": 13
        },
        {
         "from": "LacticAcid",
         "to": "Leucocytes",
         "value": 13
        },
        {
         "from": "Leucocytes",
         "to": "CRP",
         "value": 35
        },
        {
         "from": "Leucocytes",
         "to": "IV Liquid",
         "value": 13
        }
       ]
      }
     },
     "c0d73bb97a1a46eca3025557f578add0": {
      "model_module": "@jupyter-widgets/base",
      "model_module_version": "1.2.0",
      "model_name": "LayoutModel",
      "state": {}
     },
     "cb54f4281ca441ca889d4743561d2085": {
      "model_module": "ntnu-process-mining",
      "model_module_version": "^0.1.0",
      "model_name": "ProcessMapModel",
      "state": {
       "_model_module_version": "^0.1.0",
       "_view_module_version": "^0.1.0",
       "filter": 20,
       "layout": "IPY_MODEL_c0d73bb97a1a46eca3025557f578add0",
       "value": [
        {
         "from": "CRP",
         "to": "Leucocytes",
         "value": 22
        },
        {
         "from": "ER Registration",
         "to": "ER Triage",
         "value": 81
        },
        {
         "from": "ER Sepsis Triage",
         "to": "CRP",
         "value": 22
        },
        {
         "from": "ER Sepsis Triage",
         "to": "Leucocytes",
         "value": 24
        },
        {
         "from": "ER Triage",
         "to": "ER Sepsis Triage",
         "value": 81
        },
        {
         "from": "Leucocytes",
         "to": "CRP",
         "value": 24
        }
       ]
      }
     },
     "e213d05ca7df4369b135a1c1411d03c5": {
      "model_module": "@jupyter-widgets/base",
      "model_module_version": "1.2.0",
      "model_name": "LayoutModel",
      "state": {}
     },
     "f081d657500648548756fbce076324ac": {
      "model_module": "ntnu-process-mining",
      "model_module_version": "^0.1.0",
      "model_name": "ProcessMapModel",
      "state": {
       "_model_module_version": "^0.1.0",
       "_view_module_version": "^0.1.0",
       "filter": 11,
       "layout": "IPY_MODEL_feab7c9f933240a987149396d9153c4d",
       "value": [
        {
         "from": "CRP",
         "to": "LacticAcid",
         "value": 13
        },
        {
         "from": "CRP",
         "to": "Leucocytes",
         "value": 22
        },
        {
         "from": "ER Registration",
         "to": "ER Triage",
         "value": 94
        },
        {
         "from": "ER Sepsis Triage",
         "to": "CRP",
         "value": 35
        },
        {
         "from": "ER Sepsis Triage",
         "to": "Leucocytes",
         "value": 24
        },
        {
         "from": "ER Triage",
         "to": "ER Sepsis Triage",
         "value": 94
        },
        {
         "from": "IV Liquid",
         "to": "IV Antibiotics",
         "value": 13
        },
        {
         "from": "LacticAcid",
         "to": "Leucocytes",
         "value": 13
        },
        {
         "from": "Leucocytes",
         "to": "CRP",
         "value": 24
        },
        {
         "from": "Leucocytes",
         "to": "IV Liquid",
         "value": 13
        }
       ]
      }
     },
     "feab7c9f933240a987149396d9153c4d": {
      "model_module": "@jupyter-widgets/base",
      "model_module_version": "1.2.0",
      "model_name": "LayoutModel",
      "state": {}
     }
    },
    "version_major": 2,
    "version_minor": 0
   }
  }
 },
 "nbformat": 4,
 "nbformat_minor": 2
}
