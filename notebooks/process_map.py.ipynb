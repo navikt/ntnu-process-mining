{
 "cells": [
  {
   "cell_type": "code",
   "execution_count": 1,
   "metadata": {},
   "outputs": [],
   "source": [
    "import os\n",
    "from collections import Counter"
   ]
  },
  {
   "cell_type": "code",
   "execution_count": 104,
   "metadata": {
    "scrolled": false
   },
   "outputs": [],
   "source": [
    "from pm4py.algo.discovery.dfg import factory as dfg_factory\n",
    "from pm4py.objects.log.adapters.pandas import csv_import_adapter\n",
    "from pm4py.algo.discovery.dfg.adapters.pandas import df_statistics\n",
    "from pm4py import util as pmutil\n",
    "\n",
    "from pandas import read_csv, concat\n",
    "file = read_csv(os.path.join(\"files\",\"input_data\",\"sepsis.csv\"))\n",
    "\n",
    "# This is needed because the sepsis dataset has some rows where case_id = NaN\n",
    "fixed_file = file.fillna(value={'case_id':\"N/A\"})\n",
    "\n",
    "log = csv_import_adapter.convert_timestamp_columns_in_df(fixed_file, timest_columns=[\n",
    "    'timestamp'\n",
    "])\n"
   ]
  },
  {
   "cell_type": "code",
   "execution_count": 105,
   "metadata": {},
   "outputs": [],
   "source": [
    "def get_duplicate_edges_and_sources_and_sinks(log):\n",
    "    events = log.groupby('case_id')\n",
    "\n",
    "    duplicate_edge_counter = Counter()\n",
    "    source_list = []\n",
    "    sink_list = []\n",
    "    for case_id, traces in events:\n",
    "        source_list.append(traces['activity'].iloc[0])\n",
    "        sink_list.append(traces['activity'].iloc[-1])\n",
    "        \n",
    "        node_pairs = [\n",
    "            (traces['activity'].iloc[i], traces['activity'].iloc[i+1]) \n",
    "            for i in range(len(traces)-1)\n",
    "        ]\n",
    "        duplicate_edges = Counter(node_pairs) - Counter(set(node_pairs))\n",
    "        duplicate_edge_counter += duplicate_edges\n",
    "    \n",
    "    return duplicate_edge_counter, Counter(source_list), Counter(sink_list)"
   ]
  },
  {
   "cell_type": "code",
   "execution_count": 108,
   "metadata": {
    "scrolled": true
   },
   "outputs": [
    {
     "data": {
      "application/vnd.jupyter.widget-view+json": {
       "model_id": "70af1b1538da4067be316fa3aae3adeb",
       "version_major": 2,
       "version_minor": 0
      },
      "text/plain": [
       "ProcessMap(filter=10, value=[{'from': 'START', 'to': 'ER Registration', 'freq': 114, 'abs_freq': 114, 'perf': …"
      ]
     },
     "metadata": {},
     "output_type": "display_data"
    }
   ],
   "source": [
    "from ntnu_process_mining import ProcessMap\n",
    "import datetime\n",
    "from pandas import concat\n",
    "\n",
    "cases = log.groupby('case_id')\n",
    "num_cases = len(cases)\n",
    "activities = cases.agg({'activity': lambda x: ''.join(x)}).groupby('activity')\n",
    "\n",
    "process_map = ProcessMap()\n",
    "\n",
    "def on_filter_change(change={}):\n",
    "    filter_value = process_map.filter\n",
    "\n",
    "    percentile = filter_value / 100\n",
    "\n",
    "    sorted_activities = activities.size().sort_values(ascending=False)\n",
    "\n",
    "    traces_to_include = []\n",
    "    cumulative = 0\n",
    "    for trace, count in sorted_activities.items():\n",
    "        traces_to_include.append(trace)\n",
    "        cumulative += count\n",
    "        if cumulative > num_cases * percentile:\n",
    "            break\n",
    "\n",
    "\n",
    "    case_ids = concat([activities.get_group(trace).index.to_series() for trace in traces_to_include])\n",
    "\n",
    "    #case_ids = activities.filter(lambda x: len(x) > filter_value).index\n",
    "    \n",
    "    filtered_log = log[log['case_id'].isin(case_ids)]\n",
    "    dfg_frequency, dfg_performance = df_statistics.get_dfg_graph(filtered_log, measure=\"both\",\n",
    "                                                                activity_key='activity',\n",
    "                                                                timestamp_key='timestamp',\n",
    "                                                                case_id_glue='case_id')\n",
    "    \n",
    "    dfg_performance_med = df_statistics.get_dfg_graph(filtered_log, measure=\"performance\",\n",
    "                                                                activity_key='activity',\n",
    "                                                                perf_aggregation_key=\"median\",\n",
    "                                                                timestamp_key='timestamp',\n",
    "                                                                case_id_glue='case_id')\n",
    "    \n",
    "    duplicate_edges, sources, sinks = get_duplicate_edges_and_sources_and_sinks(filtered_log)\n",
    "\n",
    "    abs_dfg = Counter(dfg_frequency) - duplicate_edges\n",
    "    pm_edges = []\n",
    "    \n",
    "    for dst, freq in sources.items():\n",
    "        abs_freq = freq\n",
    "        pm_edges.append({\n",
    "            \"from\": \"START\", \n",
    "            \"to\": dst, \n",
    "            \"freq\": freq, \n",
    "            \"abs_freq\": abs_freq, \n",
    "            \"perf\": \"0\", \n",
    "            \"perf_med\": \"0\"\n",
    "        })\n",
    "\n",
    "        \n",
    "    for (src, dst), freq in dfg_frequency.items():\n",
    "        abs_freq = abs_dfg[(src, dst)] if abs_dfg[(src, dst)] else 0\n",
    "        pm_edges.append({\n",
    "            \"from\": src, \n",
    "            \"to\": dst, \n",
    "            \"freq\": freq, \n",
    "            \"abs_freq\": abs_freq, \n",
    "            \"perf\": str(datetime.timedelta(seconds=round(dfg_performance[(src, dst)], 0))), \n",
    "            \"perf_med\": str(datetime.timedelta(seconds=round(dfg_performance_med[(src, dst)], 0)))\n",
    "        })\n",
    "    \n",
    "    for src, freq in sinks.items():\n",
    "        abs_freq = freq\n",
    "        pm_edges.append({\n",
    "            \"from\": src, \n",
    "            \"to\": \"END\", \n",
    "            \"freq\": freq, \n",
    "            \"abs_freq\": abs_freq, \n",
    "            \"perf\": \"0\", \n",
    "            \"perf_med\": \"0\"\n",
    "        })\n",
    "        \n",
    "    process_map.value=pm_edges\n",
    "\n",
    "process_map.observe(on_filter_change, names='filter')\n",
    "process_map.filter=10\n",
    "on_filter_change()\n",
    "process_map"
   ]
  },
  {
   "cell_type": "code",
   "execution_count": 3,
   "metadata": {
    "scrolled": false
   },
   "outputs": [
    {
     "data": {
      "application/vnd.jupyter.widget-view+json": {
       "model_id": "40fe49d9e8654d13ad4b9ea196d53b8f",
       "version_major": 2,
       "version_minor": 0
      },
      "text/plain": [
       "ProcessMap(value=[{'from': 'START', 'to': 'ER Registration', 'freq': 264, 'abs_freq': 264, 'perf': '0', 'perf_…"
      ]
     },
     "metadata": {},
     "output_type": "display_data"
    }
   ],
   "source": [
    "import os\n",
    "from ntnu_process_mining import ProcessMap\n",
    "\n",
    "from pandas import read_csv, concat\n",
    "\n",
    "file = read_csv(os.path.join(\"files\",\"input_data\",\"sepsis.csv\"))\n",
    "# This is needed because the sepsis dataset has some rows where case_id = NaN\n",
    "df = file.fillna(value={'case_id':\"N/A\"})\n",
    "\n",
    "ProcessMap(df)\n"
   ]
  },
  {
   "cell_type": "code",
   "execution_count": null,
   "metadata": {},
   "outputs": [],
   "source": []
  }
 ],
 "metadata": {
  "kernelspec": {
   "display_name": "Python 3",
   "language": "python",
   "name": "python3"
  },
  "language_info": {
   "codemirror_mode": {
    "name": "ipython",
    "version": 3
   },
   "file_extension": ".py",
   "mimetype": "text/x-python",
   "name": "python",
   "nbconvert_exporter": "python",
   "pygments_lexer": "ipython3",
   "version": "3.6.5"
  },
  "widgets": {
   "application/vnd.jupyter.widget-state+json": {
    "state": {
     "296342e132ff4e1490cb9714334810c7": {
      "model_module": "@jupyter-widgets/base",
      "model_module_version": "1.2.0",
      "model_name": "LayoutModel",
      "state": {}
     },
     "447a15c7fd6f43b384894ead3c5a3c19": {
      "model_module": "ntnu-process-mining",
      "model_module_version": "^0.1.0",
      "model_name": "ProcessMapModel",
      "state": {
       "_model_module_version": "^0.1.0",
       "_view_module_version": "^0.1.0",
       "filter": 23,
       "layout": "IPY_MODEL_296342e132ff4e1490cb9714334810c7",
       "value": [
        {
         "from": "ER Registration",
         "to": "ER Triage",
         "value": 59
        },
        {
         "from": "ER Sepsis Triage",
         "to": "Leucocytes",
         "value": 24
        },
        {
         "from": "ER Triage",
         "to": "ER Sepsis Triage",
         "value": 59
        },
        {
         "from": "Leucocytes",
         "to": "CRP",
         "value": 24
        }
       ]
      }
     },
     "662efa9bf77d49519725186224896609": {
      "model_module": "@jupyter-widgets/base",
      "model_module_version": "1.2.0",
      "model_name": "LayoutModel",
      "state": {}
     },
     "bf73c21f0e6e413f82551f2336b319bf": {
      "model_module": "ntnu-process-mining",
      "model_module_version": "^0.1.0",
      "model_name": "ProcessMapModel",
      "state": {
       "_model_module_version": "^0.1.0",
       "_view_module_version": "^0.1.0",
       "filter": 9,
       "layout": "IPY_MODEL_662efa9bf77d49519725186224896609",
       "value": [
        {
         "from": "CRP",
         "to": "LacticAcid",
         "value": 24
        },
        {
         "from": "CRP",
         "to": "Leucocytes",
         "value": 22
        },
        {
         "from": "ER Registration",
         "to": "ER Triage",
         "value": 105
        },
        {
         "from": "ER Sepsis Triage",
         "to": "CRP",
         "value": 35
        },
        {
         "from": "ER Sepsis Triage",
         "to": "Leucocytes",
         "value": 35
        },
        {
         "from": "ER Triage",
         "to": "ER Sepsis Triage",
         "value": 105
        },
        {
         "from": "IV Liquid",
         "to": "IV Antibiotics",
         "value": 13
        },
        {
         "from": "LacticAcid",
         "to": "Leucocytes",
         "value": 13
        },
        {
         "from": "Leucocytes",
         "to": "CRP",
         "value": 35
        },
        {
         "from": "Leucocytes",
         "to": "IV Liquid",
         "value": 13
        }
       ]
      }
     },
     "c0d73bb97a1a46eca3025557f578add0": {
      "model_module": "@jupyter-widgets/base",
      "model_module_version": "1.2.0",
      "model_name": "LayoutModel",
      "state": {}
     },
     "cb54f4281ca441ca889d4743561d2085": {
      "model_module": "ntnu-process-mining",
      "model_module_version": "^0.1.0",
      "model_name": "ProcessMapModel",
      "state": {
       "_model_module_version": "^0.1.0",
       "_view_module_version": "^0.1.0",
       "filter": 20,
       "layout": "IPY_MODEL_c0d73bb97a1a46eca3025557f578add0",
       "value": [
        {
         "from": "CRP",
         "to": "Leucocytes",
         "value": 22
        },
        {
         "from": "ER Registration",
         "to": "ER Triage",
         "value": 81
        },
        {
         "from": "ER Sepsis Triage",
         "to": "CRP",
         "value": 22
        },
        {
         "from": "ER Sepsis Triage",
         "to": "Leucocytes",
         "value": 24
        },
        {
         "from": "ER Triage",
         "to": "ER Sepsis Triage",
         "value": 81
        },
        {
         "from": "Leucocytes",
         "to": "CRP",
         "value": 24
        }
       ]
      }
     },
     "f081d657500648548756fbce076324ac": {
      "model_module": "ntnu-process-mining",
      "model_module_version": "^0.1.0",
      "model_name": "ProcessMapModel",
      "state": {
       "_model_module_version": "^0.1.0",
       "_view_module_version": "^0.1.0",
       "filter": 11,
       "layout": "IPY_MODEL_feab7c9f933240a987149396d9153c4d",
       "value": [
        {
         "from": "CRP",
         "to": "LacticAcid",
         "value": 13
        },
        {
         "from": "CRP",
         "to": "Leucocytes",
         "value": 22
        },
        {
         "from": "ER Registration",
         "to": "ER Triage",
         "value": 94
        },
        {
         "from": "ER Sepsis Triage",
         "to": "CRP",
         "value": 35
        },
        {
         "from": "ER Sepsis Triage",
         "to": "Leucocytes",
         "value": 24
        },
        {
         "from": "ER Triage",
         "to": "ER Sepsis Triage",
         "value": 94
        },
        {
         "from": "IV Liquid",
         "to": "IV Antibiotics",
         "value": 13
        },
        {
         "from": "LacticAcid",
         "to": "Leucocytes",
         "value": 13
        },
        {
         "from": "Leucocytes",
         "to": "CRP",
         "value": 24
        },
        {
         "from": "Leucocytes",
         "to": "IV Liquid",
         "value": 13
        }
       ]
      }
     },
     "feab7c9f933240a987149396d9153c4d": {
      "model_module": "@jupyter-widgets/base",
      "model_module_version": "1.2.0",
      "model_name": "LayoutModel",
      "state": {}
     }
    },
    "version_major": 2,
    "version_minor": 0
   }
  }
 },
 "nbformat": 4,
 "nbformat_minor": 2
}
